{
 "metadata": {
  "name": ""
 },
 "nbformat": 3,
 "nbformat_minor": 0,
 "worksheets": [
  {
   "cells": [
    {
     "cell_type": "heading",
     "level": 1,
     "metadata": {},
     "source": [
      "Use-case: Fish tracking"
     ]
    },
    {
     "cell_type": "markdown",
     "metadata": {},
     "source": [
      "Classical conditioning experiments of weakly electric fish *Apteronotus albifrons*\n",
      "\n",
      "-- Benda Lab, University of T\u00fcbingen, Germany --"
     ]
    },
    {
     "cell_type": "markdown",
     "metadata": {},
     "source": [
      "**Context:**\n",
      "\n",
      " - Fish are trained to choose one electical stimulus.\n",
      " - Trials are videotaped @25Hz using an IR camera.\n",
      " - Fish are tracked, position and orientation extracted. "
     ]
    },
    {
     "cell_type": "code",
     "collapsed": false,
     "input": [
      "import nix\n",
      "import numpy as np\n",
      "import matplotlib.pyplot as plt\n",
      "from utils.notebook import print_stats\n",
      "\n",
      "nix_file = nix.File.open('data/tracking_data.h5', nix.FileMode.ReadOnly)\n",
      "print_stats(nix_file.blocks)"
     ],
     "language": "python",
     "metadata": {},
     "outputs": [
      {
       "output_type": "stream",
       "stream": "stdout",
       "text": [
        "\n",
        "Blocks                                             (01)\n",
        "\ttype: recording                            (01)\n"
       ]
      }
     ],
     "prompt_number": 4
    },
    {
     "cell_type": "code",
     "collapsed": false,
     "input": [
      "b = nix_file.blocks[0]\n",
      "print_stats(b.data_arrays)\n",
      "print_stats(b.multi_tags)"
     ],
     "language": "python",
     "metadata": {},
     "outputs": [
      {
       "output_type": "stream",
       "stream": "stdout",
       "text": [
        "\n",
        "DataArrays                                         (06)\n",
        "\ttype: nix.stamped_video                    (01)\n",
        "\ttype: nix.tracking.orientation             (01)\n",
        "\ttype: nix.event.positions                  (02)\n",
        "\ttype: nix.event.extents                    (02)\n",
        "\n",
        "MultiTags                                          (02)\n",
        "\ttype: nix.event                            (02)\n"
       ]
      }
     ],
     "prompt_number": 7
    },
    {
     "cell_type": "code",
     "collapsed": false,
     "input": [],
     "language": "python",
     "metadata": {},
     "outputs": []
    },
    {
     "cell_type": "code",
     "collapsed": false,
     "input": [
      "nix_file.close()"
     ],
     "language": "python",
     "metadata": {},
     "outputs": []
    }
   ],
   "metadata": {}
  }
 ]
}