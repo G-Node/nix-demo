{
 "metadata": {
  "name": ""
 },
 "nbformat": 3,
 "nbformat_minor": 0,
 "worksheets": [
  {
   "cells": [
    {
     "cell_type": "heading",
     "level": 1,
     "metadata": {},
     "source": [
      "Use-case: Fish tracking"
     ]
    },
    {
     "cell_type": "markdown",
     "metadata": {},
     "source": [
      "Classical conditioning experiments of weakly electric fish *Apteronotus albifrons*\n",
      "\n",
      "-- Benda Lab, University of T\u00fcbingen, Germany --"
     ]
    },
    {
     "cell_type": "markdown",
     "metadata": {},
     "source": [
      "**Context:**\n",
      "\n",
      " - Fish are trained to choose one electical stimulus.\n",
      " - Trials are videotaped @25Hz using an IR camera.\n",
      " - Fish are tracked, position and orientation extracted. "
     ]
    },
    {
     "cell_type": "code",
     "collapsed": false,
     "input": [
      "class Playback(object):\n",
      "    \n",
      "    def __init__(self, fig, video_array):\n",
      "        self.data = video_array\n",
      "        self.figure = fig\n",
      "        self.axis = fig.add_subplot(111)\n",
      "        self.height, self.width, self.channels, self.nframes = self.data.shape\n",
      "        dim = video_array.dimensions[-1]\n",
      "        ticks = dim.ticks\n",
      "        self.interval = np.mean(np.diff(ticks))\n",
      "        self.frame_no = 1\n",
      "       \n",
      "    def grab_frame(self, i):\n",
      "        print (i)\n",
      "        if self.frame_no < self.nframes:\n",
      "            self.axis.cla()\n",
      "            if self.frame_no % 2 == 0:\n",
      "                print(\"noframe\")\n",
      "                im = self.axis.imshow(np.zeros((self.width, self.height, self.channels)))\n",
      "                self.frame_no += 1\n",
      "                return im,\n",
      "            else:\n",
      "                print(\"frame\")\n",
      "                im = self.axis.imshow(self.data[:,:,:,self.frame_no])\n",
      "            #print np.sum((self.data[:,:,:,self.frame_no]-self.data[:,:,:,0]))\n",
      "                self.frame_no += 1\n",
      "            #plt.draw()\n",
      "                return im,\n",
      "             \n",
      "        return None\n",
      "        #print self.data.shape\n",
      "        #print frame_no\n",
      "        #temp = self.data[:, :, :, frame_no]\n",
      "        #temp = temp/256. \n",
      "        #return temp\n",
      "\n",
      "    def start(self):\n",
      "        import matplotlib.animation as animation\n",
      "        ani = animation.FuncAnimation(self.figure, self.grab_frame,  interval=self.interval, blit=False)\n",
      "        plt.show()\n",
      "       "
     ],
     "language": "python",
     "metadata": {},
     "outputs": [],
     "prompt_number": 76
    },
    {
     "cell_type": "code",
     "collapsed": false,
     "input": [
      "import nix\n",
      "import numpy as np\n",
      "import matplotlib.pyplot as plt\n",
      "from utils.notebook import print_stats\n",
      "\n",
      "nix_file = nix.File.open('data/tracking_data.h5', nix.FileMode.ReadOnly)\n",
      "print_stats(nix_file.blocks)"
     ],
     "language": "python",
     "metadata": {},
     "outputs": [
      {
       "output_type": "stream",
       "stream": "stdout",
       "text": [
        "\n",
        "Blocks                                             (01)\n",
        "\ttype: recording                            (01)\n"
       ]
      }
     ],
     "prompt_number": 11
    },
    {
     "cell_type": "code",
     "collapsed": false,
     "input": [
      "b = nix_file.blocks[0]\n",
      "print_stats(b.data_arrays)\n",
      "print_stats(b.multi_tags)"
     ],
     "language": "python",
     "metadata": {},
     "outputs": [
      {
       "output_type": "stream",
       "stream": "stdout",
       "text": [
        "\n",
        "DataArrays                                         (06)\n",
        "\ttype: nix.stamped_video                    (01)\n",
        "\ttype: nix.tracking.orientation             (01)\n",
        "\ttype: nix.event.positions                  (02)\n",
        "\ttype: nix.event.extents                    (02)\n",
        "\n",
        "MultiTags                                          (02)\n",
        "\ttype: nix.event                            (02)\n"
       ]
      }
     ],
     "prompt_number": 12
    },
    {
     "cell_type": "code",
     "collapsed": false,
     "input": [
      "video = [a for a in b.data_arrays if a.name == \"video\"][0]\n",
      "fig = plt.figure()\n",
      "\n",
      "\n",
      "pb = Playback(fig,video)\n",
      "pb.start()"
     ],
     "language": "python",
     "metadata": {},
     "outputs": [
      {
       "output_type": "stream",
       "stream": "stdout",
       "text": [
        "0\n",
        "frame\n",
        "0"
       ]
      },
      {
       "output_type": "stream",
       "stream": "stdout",
       "text": [
        "\n",
        "frame\n",
        "1"
       ]
      },
      {
       "output_type": "stream",
       "stream": "stdout",
       "text": [
        "\n",
        "frame\n",
        "2"
       ]
      },
      {
       "output_type": "stream",
       "stream": "stdout",
       "text": [
        "\n",
        "frame\n",
        "3"
       ]
      },
      {
       "output_type": "stream",
       "stream": "stdout",
       "text": [
        "\n",
        "frame\n",
        "4"
       ]
      },
      {
       "output_type": "stream",
       "stream": "stdout",
       "text": [
        "\n",
        "frame\n",
        "5"
       ]
      },
      {
       "output_type": "stream",
       "stream": "stdout",
       "text": [
        "\n",
        "frame\n",
        "6"
       ]
      },
      {
       "output_type": "stream",
       "stream": "stdout",
       "text": [
        "\n",
        "frame\n",
        "7"
       ]
      },
      {
       "output_type": "stream",
       "stream": "stdout",
       "text": [
        "\n",
        "frame\n",
        "8"
       ]
      },
      {
       "output_type": "stream",
       "stream": "stdout",
       "text": [
        "\n",
        "frame\n",
        "9"
       ]
      },
      {
       "output_type": "stream",
       "stream": "stdout",
       "text": [
        "\n",
        "frame\n",
        "10"
       ]
      },
      {
       "output_type": "stream",
       "stream": "stdout",
       "text": [
        "\n",
        "frame\n",
        "11"
       ]
      },
      {
       "output_type": "stream",
       "stream": "stdout",
       "text": [
        "\n",
        "frame\n",
        "12"
       ]
      },
      {
       "output_type": "stream",
       "stream": "stdout",
       "text": [
        "\n",
        "frame\n",
        "13"
       ]
      },
      {
       "output_type": "stream",
       "stream": "stdout",
       "text": [
        "\n",
        "frame\n",
        "14"
       ]
      },
      {
       "output_type": "stream",
       "stream": "stdout",
       "text": [
        "\n",
        "frame\n",
        "15"
       ]
      },
      {
       "output_type": "stream",
       "stream": "stdout",
       "text": [
        "\n",
        "frame\n",
        "16"
       ]
      },
      {
       "output_type": "stream",
       "stream": "stdout",
       "text": [
        "\n",
        "frame\n",
        "17"
       ]
      },
      {
       "output_type": "stream",
       "stream": "stdout",
       "text": [
        "\n",
        "frame\n",
        "18"
       ]
      },
      {
       "output_type": "stream",
       "stream": "stdout",
       "text": [
        "\n",
        "frame\n",
        "19"
       ]
      },
      {
       "output_type": "stream",
       "stream": "stdout",
       "text": [
        "\n",
        "frame\n",
        "20"
       ]
      },
      {
       "output_type": "stream",
       "stream": "stdout",
       "text": [
        "\n",
        "frame\n",
        "21"
       ]
      },
      {
       "output_type": "stream",
       "stream": "stdout",
       "text": [
        "\n",
        "frame\n",
        "22"
       ]
      },
      {
       "output_type": "stream",
       "stream": "stdout",
       "text": [
        "\n",
        "frame\n",
        "23"
       ]
      },
      {
       "output_type": "stream",
       "stream": "stdout",
       "text": [
        "\n",
        "frame\n",
        "24"
       ]
      },
      {
       "output_type": "stream",
       "stream": "stdout",
       "text": [
        "\n",
        "frame\n",
        "25"
       ]
      },
      {
       "output_type": "stream",
       "stream": "stdout",
       "text": [
        "\n",
        "frame\n",
        "26"
       ]
      },
      {
       "output_type": "stream",
       "stream": "stdout",
       "text": [
        "\n",
        "frame\n",
        "27"
       ]
      },
      {
       "output_type": "stream",
       "stream": "stdout",
       "text": [
        "\n",
        "frame\n",
        "28"
       ]
      },
      {
       "output_type": "stream",
       "stream": "stdout",
       "text": [
        "\n",
        "frame\n",
        "29"
       ]
      },
      {
       "output_type": "stream",
       "stream": "stdout",
       "text": [
        "\n",
        "frame\n",
        "30"
       ]
      },
      {
       "output_type": "stream",
       "stream": "stdout",
       "text": [
        "\n",
        "frame\n",
        "31"
       ]
      },
      {
       "output_type": "stream",
       "stream": "stdout",
       "text": [
        "\n",
        "frame\n"
       ]
      }
     ],
     "prompt_number": 77
    },
    {
     "cell_type": "code",
     "collapsed": false,
     "input": [
      "nix_file.close()"
     ],
     "language": "python",
     "metadata": {},
     "outputs": [],
     "prompt_number": 9
    },
    {
     "cell_type": "code",
     "collapsed": false,
     "input": [],
     "language": "python",
     "metadata": {},
     "outputs": []
    }
   ],
   "metadata": {}
  }
 ]
}