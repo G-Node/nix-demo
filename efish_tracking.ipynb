{
 "cells": [
  {
   "cell_type": "markdown",
   "metadata": {},
   "source": [
    "# Use-case: Fish tracking"
   ]
  },
  {
   "cell_type": "markdown",
   "metadata": {},
   "source": [
    "Classical conditioning experiments of weakly electric fish *Apteronotus albifrons*\n",
    "\n",
    "-- Benda Lab, University of Tübingen, Germany --"
   ]
  },
  {
   "cell_type": "markdown",
   "metadata": {},
   "source": [
    "**Context:**\n",
    "\n",
    " - Fish are trained to choose one electical stimulus.\n",
    " - Trials are videotaped @25Hz using an IR camera.\n",
    " - Fish are tracked, position and orientation extracted. "
   ]
  },
  {
   "cell_type": "code",
   "execution_count": 6,
   "metadata": {
    "collapsed": false
   },
   "outputs": [
    {
     "name": "stdout",
     "output_type": "stream",
     "text": [
      "\n",
      "Blocks                                             (01)\n",
      "\ttype: recording                            (01)\n"
     ]
    }
   ],
   "source": [
    "import nixio as nix\n",
    "import numpy as np\n",
    "import matplotlib\n",
    "matplotlib.use('TkAgg')\n",
    "import matplotlib.pyplot as plt\n",
    "from utils.notebook import print_stats\n",
    "from utils.video_player import Playback\n",
    "\n",
    "nix_file = nix.File.open('data/tracking_data.h5', nix.FileMode.ReadOnly)\n",
    "print_stats(nix_file.blocks)"
   ]
  },
  {
   "cell_type": "code",
   "execution_count": 7,
   "metadata": {
    "collapsed": false
   },
   "outputs": [
    {
     "name": "stdout",
     "output_type": "stream",
     "text": [
      "\n",
      "DataArrays                                         (06)\n",
      "\ttype: nix.stamped_video                    (01)\n",
      "\ttype: nix.tracking.orientation             (01)\n",
      "\ttype: nix.event.positions                  (02)\n",
      "\ttype: nix.event.extents                    (02)\n",
      "\n",
      "MultiTags                                          (02)\n",
      "\ttype: nix.event                            (02)\n"
     ]
    }
   ],
   "source": [
    "b = nix_file.blocks[0]\n",
    "print_stats(b.data_arrays)\n",
    "print_stats(b.multi_tags)"
   ]
  },
  {
   "cell_type": "markdown",
   "metadata": {},
   "source": [
    "## Storing of video data:"
   ]
  },
  {
   "cell_type": "markdown",
   "metadata": {},
   "source": [
    "Movies are, depending on the number of color channels, stored as 3D, respectively 4D **DataArrays**."
   ]
  },
  {
   "cell_type": "code",
   "execution_count": 9,
   "metadata": {
    "collapsed": false
   },
   "outputs": [],
   "source": [
    "video = [a for a in b.data_arrays if a.name == \"video\"][0]"
   ]
  },
  {
   "cell_type": "code",
   "execution_count": null,
   "metadata": {
    "collapsed": true
   },
   "outputs": [],
   "source": [
    "fig = plt.figure(facecolor='white', figsize=(1024 / 90, 768 / 90), dpi=90)\n",
    "pb = Playback(fig,video)\n",
    "pb.start()"
   ]
  },
  {
   "cell_type": "markdown",
   "metadata": {},
   "source": [
    "## Tracking data:"
   ]
  },
  {
   "cell_type": "markdown",
   "metadata": {},
   "source": [
    "Tracking data is stored as positions in the 4D Matrix, the fourth dimension specifies the time (frame) at which an objkect was tracked. Link between video data and position data is established using a **MultiTag** entity. "
   ]
  },
  {
   "cell_type": "code",
   "execution_count": 10,
   "metadata": {
    "collapsed": true
   },
   "outputs": [],
   "source": [
    "# get the tag linking tracking and video data\n",
    "tag = [t for t in b.multi_tags if t.name == \"tracking\"][0]"
   ]
  },
  {
   "cell_type": "code",
   "execution_count": 5,
   "metadata": {
    "collapsed": false
   },
   "outputs": [
    {
     "name": "stderr",
     "output_type": "stream",
     "text": [
      "Exception in Tkinter callback\n",
      "Traceback (most recent call last):\n",
      "  File \"/usr/local/Cellar/python/2.7.11/Frameworks/Python.framework/Versions/2.7/lib/python2.7/lib-tk/Tkinter.py\", line 1536, in __call__\n",
      "    return self.func(*args)\n",
      "  File \"/usr/local/Cellar/python/2.7.11/Frameworks/Python.framework/Versions/2.7/lib/python2.7/lib-tk/Tkinter.py\", line 587, in callit\n",
      "    func(*args)\n",
      "  File \"/usr/local/lib/python2.7/site-packages/matplotlib/backends/backend_tkagg.py\", line 147, in _on_timer\n",
      "    TimerBase._on_timer(self)\n",
      "  File \"/usr/local/lib/python2.7/site-packages/matplotlib/backend_bases.py\", line 1305, in _on_timer\n",
      "    ret = func(*args, **kwargs)\n",
      "  File \"/usr/local/lib/python2.7/site-packages/matplotlib/animation.py\", line 1021, in _step\n",
      "    still_going = Animation._step(self, *args)\n",
      "  File \"/usr/local/lib/python2.7/site-packages/matplotlib/animation.py\", line 827, in _step\n",
      "    self._draw_next_frame(framedata, self._blit)\n",
      "  File \"/usr/local/lib/python2.7/site-packages/matplotlib/animation.py\", line 845, in _draw_next_frame\n",
      "    self._pre_draw(framedata, blit)\n",
      "  File \"/usr/local/lib/python2.7/site-packages/matplotlib/animation.py\", line 858, in _pre_draw\n",
      "    self._blit_clear(self._drawn_artists, self._blit_cache)\n",
      "  File \"/usr/local/lib/python2.7/site-packages/matplotlib/animation.py\", line 898, in _blit_clear\n",
      "    a.figure.canvas.restore_region(bg_cache[a])\n",
      "KeyError: <matplotlib.axes._subplots.AxesSubplot object at 0x114952ad0>\n",
      "utils/video_player.py:47: VisibleDeprecationWarning: using a non-integer number instead of an integer will result in an error in the future\n",
      "  frame[y_pos-radius:y_pos+radius, x_pos-radius:x_pos+radius, 0][index] = 255\n",
      "utils/video_player.py:48: VisibleDeprecationWarning: using a non-integer number instead of an integer will result in an error in the future\n",
      "  frame[y_pos-radius:y_pos+radius, x_pos-radius:x_pos+radius, 1][index] = 0\n",
      "utils/video_player.py:49: VisibleDeprecationWarning: using a non-integer number instead of an integer will result in an error in the future\n",
      "  frame[y_pos-radius:y_pos+radius, x_pos-radius:x_pos+radius, 2][index] = 0\n"
     ]
    }
   ],
   "source": [
    "fig = plt.figure(facecolor='white', figsize=(1024 / 90, 768 / 90), dpi=90)\n",
    "pb = Playback(fig, video, tracking_tag=tag)\n",
    "pb.start()"
   ]
  },
  {
   "cell_type": "markdown",
   "metadata": {},
   "source": [
    "## Addtional Information:"
   ]
  },
  {
   "cell_type": "markdown",
   "metadata": {},
   "source": [
    "During tracking additional information, i.e. the fish's orientation, is gathered. For each position there is also an orientation. This information is stored as a **Feature** of the tracking. "
   ]
  },
  {
   "cell_type": "code",
   "execution_count": null,
   "metadata": {
    "collapsed": false
   },
   "outputs": [],
   "source": [
    "fig = plt.figure(facecolor='white', figsize=(1024 / 90, 768 / 90), dpi=90)\n",
    "pb = Playback(fig, video, tracking_tag=tag, show_orientation=True)\n",
    "pb.start()"
   ]
  },
  {
   "cell_type": "code",
   "execution_count": null,
   "metadata": {
    "collapsed": false
   },
   "outputs": [],
   "source": [
    "nix_file.close()"
   ]
  },
  {
   "cell_type": "code",
   "execution_count": null,
   "metadata": {
    "collapsed": false
   },
   "outputs": [],
   "source": []
  }
 ],
 "metadata": {
  "kernelspec": {
   "display_name": "Python 2",
   "language": "python",
   "name": "python2"
  },
  "language_info": {
   "codemirror_mode": {
    "name": "ipython",
    "version": 2
   },
   "file_extension": ".py",
   "mimetype": "text/x-python",
   "name": "python",
   "nbconvert_exporter": "python",
   "pygments_lexer": "ipython2",
   "version": "2.7.11"
  }
 },
 "nbformat": 4,
 "nbformat_minor": 0
}
